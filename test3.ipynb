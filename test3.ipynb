{
 "cells": [
  {
   "cell_type": "code",
   "execution_count": 1,
   "metadata": {},
   "outputs": [
    {
     "name": "stdout",
     "output_type": "stream",
     "text": [
      "key pressed left\n",
      "key released left\n",
      "key pressed left\n",
      "key released left\n",
      "key pressed left\n",
      "key released left\n",
      "key pressed left\n",
      "key released left\n",
      "key pressed left\n",
      "key released left\n",
      "key pressed left\n",
      "key released left\n",
      "key pressed left\n",
      "key released left\n",
      "key pressed left\n",
      "key released left\n",
      "key pressed right\n",
      "key released right\n",
      "key pressed right\n",
      "key released right\n",
      "key pressed right\n",
      "key released right\n",
      "key pressed right\n",
      "key released right\n",
      "key pressed right\n",
      "key released right\n",
      "key pressed right\n",
      "key released right\n",
      "key pressed right\n",
      "key released right\n",
      "key pressed right\n",
      "key released right\n",
      "key pressed right\n",
      "key released right\n",
      "key pressed right\n",
      "key released right\n",
      "key pressed right\n",
      "key released right\n",
      "key pressed right\n",
      "key released right\n",
      "key pressed right\n",
      "key released right\n",
      "key pressed right\n",
      "key released right\n",
      "key pressed right\n",
      "key released right\n",
      "key pressed right\n",
      "key released right\n",
      "key pressed right\n",
      "key released right\n"
     ]
    },
    {
     "ename": "",
     "evalue": "",
     "output_type": "error",
     "traceback": [
      "\u001b[1;31mThe Kernel crashed while executing code in the current cell or a previous cell. \n",
      "\u001b[1;31mPlease review the code in the cell(s) to identify a possible cause of the failure. \n",
      "\u001b[1;31mClick <a href='https://aka.ms/vscodeJupyterKernelCrash'>here</a> for more info. \n",
      "\u001b[1;31mView Jupyter <a href='command:jupyter.viewOutput'>log</a> for further details."
     ]
    }
   ],
   "source": [
    "from utils.animate_ball2 import *\n",
    "import matplotlib.pyplot as plt\n",
    "import matplotlib\n",
    "\n",
    "%matplotlib tk\n",
    "\n",
    "b=ball(framesize=(64,64),x=16,y=16,direction=[0,1],color=255,obstacle_color=200,destructible_obstacles=True,boundary_color=50,player_color=255)\n",
    "\n",
    "for i in range(50):\n",
    "    b.add_obstacles([[i+10,20]])\n",
    "    b.add_obstacles([[i+10,30]])\n",
    "    b.add_obstacles([[i+10,40]])\n",
    "    b.add_obstacles([[i+10,50]])\n",
    "\n",
    "b.main_game_loop()"
   ]
  },
  {
   "cell_type": "code",
   "execution_count": null,
   "metadata": {},
   "outputs": [],
   "source": [
    "from utils.animate_ball2 import *\n",
    "import matplotlib.pyplot as plt\n",
    "import matplotlib\n",
    "\n",
    "b=ball(framesize=(20,20),x=16,y=16,direction=[0,1],color=255,obstacle_color=200,destructible_obstacles=True,boundary_color=50,player_color=255)\n",
    "q_table=b.main_game_loop_no_visuals()"
   ]
  },
  {
   "cell_type": "code",
   "execution_count": null,
   "metadata": {},
   "outputs": [],
   "source": [
    "sum(q_table[:,:,3,16,0])\n"
   ]
  }
 ],
 "metadata": {
  "kernelspec": {
   "display_name": "pytorch_m1",
   "language": "python",
   "name": "python3"
  },
  "language_info": {
   "codemirror_mode": {
    "name": "ipython",
    "version": 3
   },
   "file_extension": ".py",
   "mimetype": "text/x-python",
   "name": "python",
   "nbconvert_exporter": "python",
   "pygments_lexer": "ipython3",
   "version": "3.9.12"
  }
 },
 "nbformat": 4,
 "nbformat_minor": 2
}
